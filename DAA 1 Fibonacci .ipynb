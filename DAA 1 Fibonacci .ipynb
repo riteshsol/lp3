{
 "cells": [
  {
   "cell_type": "code",
   "execution_count": 1,
   "id": "ad9dc155",
   "metadata": {},
   "outputs": [
    {
     "name": "stdout",
     "output_type": "stream",
     "text": [
      "Enter number of terms:5\n",
      "*** RECURSIVE APPROACH ***\n",
      "Entered Number of Terms: 5\n",
      "Fibonacci sequence:\n",
      "[0, 1, 1, 2, 3]\n"
     ]
    }
   ],
   "source": [
    "def fibonacci(n):\n",
    "    if(n <= 1):\n",
    "        return n\n",
    "    else:\n",
    "        return(fibonacci(n-1) + fibonacci(n-2))\n",
    "n = int(input(\"Enter number of terms:\"))\n",
    "print(\"*** RECURSIVE APPROACH ***\")\n",
    "print(\"Entered Number of Terms:\",n)\n",
    "myLst = []\n",
    "print(\"Fibonacci sequence:\")\n",
    "for i in range(n):\n",
    "    myLst.append(fibonacci(i))\n",
    "\n",
    "print(myLst)"
   ]
  },
  {
   "cell_type": "code",
   "execution_count": 2,
   "id": "bbc44981",
   "metadata": {},
   "outputs": [
    {
     "name": "stdout",
     "output_type": "stream",
     "text": [
      "Enter the number of terms in the sequence: 58\n",
      "*** ITERATIVE APPROACH ***\n",
      "Entered Number of Terms: 58\n",
      "Fibonacci sequence:\n",
      "[0, 1, 1, 2, 3, 5, 8, 13, 21, 34, 55, 89, 144, 233, 377, 610, 987, 1597, 2584, 4181, 6765, 10946, 17711, 28657, 46368, 75025, 121393, 196418, 317811, 514229, 832040, 1346269, 2178309, 3524578, 5702887, 9227465, 14930352, 24157817, 39088169, 63245986, 102334155, 165580141, 267914296, 433494437, 701408733, 1134903170, 1836311903, 2971215073, 4807526976, 7778742049, 12586269025, 20365011074, 32951280099, 53316291173, 86267571272, 139583862445, 225851433717, 365435296162]\n"
     ]
    }
   ],
   "source": [
    "a = 0\n",
    "b = 1\n",
    "n=int(input(\"Enter the number of terms in the sequence: \"))\n",
    "print(\"*** ITERATIVE APPROACH ***\")\n",
    "print(\"Entered Number of Terms:\",n)\n",
    "myLst = []\n",
    "myLst.append(a)\n",
    "myLst.append(b)\n",
    "# print(a,b,end=\" \")\n",
    "while(n-2):\n",
    "    c=a+b\n",
    "    a,b = b,c\n",
    "    myLst.append(c)\n",
    "    # print(c,end=\" \")\n",
    "    n=n-1\n",
    "\n",
    "print(\"Fibonacci sequence:\")\n",
    "print(myLst)"
   ]
  },
  {
   "cell_type": "code",
   "execution_count": null,
   "id": "44c6243b",
   "metadata": {},
   "outputs": [],
   "source": []
  }
 ],
 "metadata": {
  "kernelspec": {
   "display_name": "Python 3 (ipykernel)",
   "language": "python",
   "name": "python3"
  },
  "language_info": {
   "codemirror_mode": {
    "name": "ipython",
    "version": 3
   },
   "file_extension": ".py",
   "mimetype": "text/x-python",
   "name": "python",
   "nbconvert_exporter": "python",
   "pygments_lexer": "ipython3",
   "version": "3.11.0"
  }
 },
 "nbformat": 4,
 "nbformat_minor": 5
}
